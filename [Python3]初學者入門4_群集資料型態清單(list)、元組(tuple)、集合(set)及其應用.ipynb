{
 "cells": [
  {
   "cell_type": "code",
   "execution_count": null,
   "metadata": {},
   "outputs": [],
   "source": [
    "【範例1】利用一對中括弧來建立一個課程清單。"
   ]
  },
  {
   "cell_type": "code",
   "execution_count": 1,
   "metadata": {},
   "outputs": [
    {
     "name": "stdout",
     "output_type": "stream",
     "text": [
      "['History', 'Math', 'Physics', 'ComSci']\n"
     ]
    }
   ],
   "source": [
    "course = ['History','Math','Physics','ComSci']\n",
    "print(course)"
   ]
  },
  {
   "cell_type": "markdown",
   "metadata": {},
   "source": [
    "【範例1-2】利用len()函式，來確認清單內的資料項目數量(或稱清單的長度)。"
   ]
  },
  {
   "cell_type": "code",
   "execution_count": 2,
   "metadata": {},
   "outputs": [
    {
     "name": "stdout",
     "output_type": "stream",
     "text": [
      "4\n"
     ]
    }
   ],
   "source": [
    "course = ['History','Math','Physics','ComSci']\n",
    "print(len(course))"
   ]
  },
  {
   "cell_type": "markdown",
   "metadata": {},
   "source": [
    "【範例1-3】根據位置索引(location index)取出清單內的資料。"
   ]
  },
  {
   "cell_type": "code",
   "execution_count": 3,
   "metadata": {},
   "outputs": [
    {
     "name": "stdout",
     "output_type": "stream",
     "text": [
      "History\n"
     ]
    }
   ],
   "source": [
    "course = ['History','Math','Physics','ComSci']\n",
    "print(course[0])"
   ]
  },
  {
   "cell_type": "code",
   "execution_count": 4,
   "metadata": {},
   "outputs": [
    {
     "name": "stdout",
     "output_type": "stream",
     "text": [
      "History\n"
     ]
    }
   ],
   "source": [
    "print( ['History','Math','Physics','ComSci'][0])"
   ]
  },
  {
   "cell_type": "markdown",
   "metadata": {},
   "source": [
    "【範例1-4】從清單取出最後一個資料項。"
   ]
  },
  {
   "cell_type": "code",
   "execution_count": 5,
   "metadata": {},
   "outputs": [
    {
     "name": "stdout",
     "output_type": "stream",
     "text": [
      "ComSci\n"
     ]
    }
   ],
   "source": [
    "course = ['History','Math','Physics','ComSci']\n",
    "print(course[3])"
   ]
  },
  {
   "cell_type": "code",
   "execution_count": 6,
   "metadata": {},
   "outputs": [
    {
     "name": "stdout",
     "output_type": "stream",
     "text": [
      "ComSci\n"
     ]
    }
   ],
   "source": [
    "course = ['History','Math','Physics','ComSci']\n",
    "print(course[-1])"
   ]
  },
  {
   "cell_type": "code",
   "execution_count": 9,
   "metadata": {},
   "outputs": [
    {
     "name": "stdout",
     "output_type": "stream",
     "text": [
      "ComSci\n"
     ]
    }
   ],
   "source": [
    "course = ['History','Math','Physics','ComSci']\n",
    "print(course[len(course) - 1])"
   ]
  },
  {
   "cell_type": "markdown",
   "metadata": {},
   "source": [
    "【範例1-5】當給定的位置索引超出清單範圍時會引發IndexError。"
   ]
  },
  {
   "cell_type": "code",
   "execution_count": 10,
   "metadata": {},
   "outputs": [
    {
     "ename": "IndexError",
     "evalue": "list index out of range",
     "output_type": "error",
     "traceback": [
      "\u001b[0;31m---------------------------------------------------------------------------\u001b[0m",
      "\u001b[0;31mIndexError\u001b[0m                                Traceback (most recent call last)",
      "\u001b[0;32m<ipython-input-10-3d120b0c0775>\u001b[0m in \u001b[0;36m<module>\u001b[0;34m\u001b[0m\n\u001b[1;32m      1\u001b[0m \u001b[0mcourse\u001b[0m \u001b[0;34m=\u001b[0m \u001b[0;34m[\u001b[0m\u001b[0;34m'History'\u001b[0m\u001b[0;34m,\u001b[0m\u001b[0;34m'Math'\u001b[0m\u001b[0;34m,\u001b[0m\u001b[0;34m'Physics'\u001b[0m\u001b[0;34m,\u001b[0m\u001b[0;34m'ComSci'\u001b[0m\u001b[0;34m]\u001b[0m\u001b[0;34m\u001b[0m\u001b[0;34m\u001b[0m\u001b[0m\n\u001b[0;32m----> 2\u001b[0;31m \u001b[0mprint\u001b[0m\u001b[0;34m(\u001b[0m\u001b[0mcourse\u001b[0m\u001b[0;34m[\u001b[0m\u001b[0;36m4\u001b[0m\u001b[0;34m]\u001b[0m\u001b[0;34m)\u001b[0m\u001b[0;34m\u001b[0m\u001b[0;34m\u001b[0m\u001b[0m\n\u001b[0m",
      "\u001b[0;31mIndexError\u001b[0m: list index out of range"
     ]
    }
   ],
   "source": [
    "course = ['History','Math','Physics','ComSci']\n",
    "print(course[4])"
   ]
  },
  {
   "cell_type": "markdown",
   "metadata": {},
   "source": [
    "【範例1-6】從清單取出某個範圍內的資料。"
   ]
  },
  {
   "cell_type": "code",
   "execution_count": 12,
   "metadata": {},
   "outputs": [
    {
     "name": "stdout",
     "output_type": "stream",
     "text": [
      "['History', 'Math']\n"
     ]
    }
   ],
   "source": [
    "course = ['History','Math','Physics','ComSci']\n",
    "print(course[0 : 2])"
   ]
  },
  {
   "cell_type": "code",
   "execution_count": 13,
   "metadata": {},
   "outputs": [
    {
     "name": "stdout",
     "output_type": "stream",
     "text": [
      "['History', 'Math']\n"
     ]
    }
   ],
   "source": [
    "course = ['History','Math','Physics','ComSci']\n",
    "print(course[:2])"
   ]
  },
  {
   "cell_type": "markdown",
   "metadata": {},
   "source": [
    "【範例1-7】從清單取出特定範圍的資料，本例為倒數2個資料項，本例為['Physics','ComSci']。"
   ]
  },
  {
   "cell_type": "code",
   "execution_count": 18,
   "metadata": {},
   "outputs": [
    {
     "name": "stdout",
     "output_type": "stream",
     "text": [
      "['Physics', 'ComSci']\n"
     ]
    }
   ],
   "source": [
    "course = ['History','Math','Physics','ComSci']\n",
    "print(course[2:3])"
   ]
  },
  {
   "cell_type": "code",
   "execution_count": 19,
   "metadata": {},
   "outputs": [
    {
     "name": "stdout",
     "output_type": "stream",
     "text": [
      "['Physics', 'ComSci']\n"
     ]
    }
   ],
   "source": [
    "course = ['History','Math','Physics','ComSci']\n",
    "print(course[-2:])"
   ]
  },
  {
   "cell_type": "markdown",
   "metadata": {},
   "source": [
    "【範例2-1】新增資料項到清單，本例為新增'Art'到course裡。"
   ]
  },
  {
   "cell_type": "code",
   "execution_count": 21,
   "metadata": {},
   "outputs": [
    {
     "name": "stdout",
     "output_type": "stream",
     "text": [
      "['History', 'Math', 'Physics', 'ComSci', 'Art']\n"
     ]
    }
   ],
   "source": [
    "course = ['History','Math','Physics','ComSci']\n",
    "course.append('Art')\n",
    "print(course)"
   ]
  },
  {
   "cell_type": "markdown",
   "metadata": {},
   "source": [
    "【範例2-2】在清單的特定索引位置(index)新增資料項(x)，本例為在course裡的第1項新增'Art'。"
   ]
  },
  {
   "cell_type": "code",
   "execution_count": 22,
   "metadata": {},
   "outputs": [
    {
     "name": "stdout",
     "output_type": "stream",
     "text": [
      "['Art', 'History', 'Math', 'Physics', 'ComSci']\n"
     ]
    }
   ],
   "source": [
    "course = ['History','Math','Physics','ComSci']\n",
    "course.insert(0,'Art')\n",
    "print(course)"
   ]
  },
  {
   "cell_type": "markdown",
   "metadata": {},
   "source": [
    "【範例2-3-1】新增清單course_2至course清單中。(注意：coruse_2也是清單)"
   ]
  },
  {
   "cell_type": "code",
   "execution_count": 34,
   "metadata": {},
   "outputs": [
    {
     "name": "stdout",
     "output_type": "stream",
     "text": [
      "['History', 'Math', 'Physics', 'ComSci', 'O', 'p', 't', 'i', 'c', 's']\n"
     ]
    }
   ],
   "source": [
    "course = ['History','Math','Physics','ComSci']\n",
    "course_2 = ['Art','Education']\n",
    "course_3 = 'Optics'\n",
    "course.extend(course_3)\n",
    "print(course)"
   ]
  },
  {
   "cell_type": "markdown",
   "metadata": {},
   "source": [
    "【範例2-3-2】為了加深讀者對於extend方法如何將可迭代資料項新增至course中，我們將原本為清單的course_2，指定為字串'Art'。"
   ]
  },
  {
   "cell_type": "code",
   "execution_count": 35,
   "metadata": {},
   "outputs": [
    {
     "name": "stdout",
     "output_type": "stream",
     "text": [
      "['History', 'Math', 'Physics', 'ComSci', 'A', 'r', 't']\n"
     ]
    }
   ],
   "source": [
    "course = ['History','Math','Physics','ComSci']\n",
    "course_2 = 'Art'\n",
    "course.extend(course_2)\n",
    "print(course)"
   ]
  },
  {
   "cell_type": "markdown",
   "metadata": {},
   "source": [
    "【範例2-3-3】很多人把extend與append混淆，筆者在這裡示範兩者的差異。"
   ]
  },
  {
   "cell_type": "code",
   "execution_count": 24,
   "metadata": {},
   "outputs": [
    {
     "name": "stdout",
     "output_type": "stream",
     "text": [
      "['History', 'Math', 'Physics', 'ComSci', ['Art', 'Education']]\n"
     ]
    }
   ],
   "source": [
    "course = ['History','Math','Physics','ComSci']\n",
    "course_2 = ['Art','Education']\n",
    "course.append(course_2)\n",
    "print(course)"
   ]
  },
  {
   "cell_type": "markdown",
   "metadata": {},
   "source": [
    "【範例2-3-4】很多人把extend與insert混淆，筆者在這裡示範兩者的差異。"
   ]
  },
  {
   "cell_type": "code",
   "execution_count": 32,
   "metadata": {},
   "outputs": [
    {
     "name": "stdout",
     "output_type": "stream",
     "text": [
      "['History', 'Math', 'Physics', 'ComSci', ['Art', 'Education']]\n"
     ]
    }
   ],
   "source": [
    "course = ['History','Math','Physics','ComSci']\n",
    "course_2 = ['Art','Education']\n",
    "course.insert(len(course),course_2)\n",
    "print(course)"
   ]
  },
  {
   "cell_type": "markdown",
   "metadata": {},
   "source": [
    "範例3-1】移除指定名稱的資料項"
   ]
  },
  {
   "cell_type": "code",
   "execution_count": 36,
   "metadata": {},
   "outputs": [
    {
     "name": "stdout",
     "output_type": "stream",
     "text": [
      "['History', 'Physics', 'ComSci']\n"
     ]
    }
   ],
   "source": [
    "course = ['History','Math','Physics','ComSci']\n",
    "course.remove('Math')\n",
    "print(course)"
   ]
  },
  {
   "cell_type": "markdown",
   "metadata": {},
   "source": [
    "【範例3-2】移除最後一個資料項，並回傳移除的資料項。"
   ]
  },
  {
   "cell_type": "code",
   "execution_count": 40,
   "metadata": {},
   "outputs": [
    {
     "name": "stdout",
     "output_type": "stream",
     "text": [
      "['History', 'Math', 'ComSci']\n"
     ]
    }
   ],
   "source": [
    "course = ['History','Math','Physics','ComSci']\n",
    "course.pop(2)\n",
    "print(course)"
   ]
  },
  {
   "cell_type": "markdown",
   "metadata": {},
   "source": [
    "【範例3-2-2】請注意pop()括弧內若不指定位置索引的話，會自動移除最後一項。如果想要把被移除的資料項記錄下來，可以指派一個新變數去記錄回傳的值。"
   ]
  },
  {
   "cell_type": "code",
   "execution_count": 49,
   "metadata": {},
   "outputs": [
    {
     "name": "stdout",
     "output_type": "stream",
     "text": [
      "ComSci\n",
      "['History', 'Math', 'Physics']\n"
     ]
    }
   ],
   "source": [
    "course = ['History','Math','Physics','ComSci']\n",
    "popped = course.pop()\n",
    "print(popped)\n",
    "print(course)"
   ]
  },
  {
   "cell_type": "markdown",
   "metadata": {},
   "source": [
    "【範例3-2-3】若pop(x)括弧內指定位置索引x，則會移除並回傳。"
   ]
  },
  {
   "cell_type": "code",
   "execution_count": 50,
   "metadata": {},
   "outputs": [
    {
     "name": "stdout",
     "output_type": "stream",
     "text": [
      "Physics\n",
      "['History', 'Math', 'ComSci']\n"
     ]
    }
   ],
   "source": [
    "course = ['History','Math','Physics','ComSci']\n",
    "popped = course.pop(2)\n",
    "print(popped)\n",
    "print(course)"
   ]
  },
  {
   "cell_type": "markdown",
   "metadata": {},
   "source": [
    "【範例4】反轉['History','Math','Physics','ComSci']"
   ]
  },
  {
   "cell_type": "code",
   "execution_count": 51,
   "metadata": {},
   "outputs": [
    {
     "name": "stdout",
     "output_type": "stream",
     "text": [
      "['ComSci', 'Physics', 'Math', 'History']\n"
     ]
    }
   ],
   "source": [
    "course = ['History','Math','Physics','ComSci']\n",
    "course.reverse()\n",
    "print(course)"
   ]
  },
  {
   "cell_type": "markdown",
   "metadata": {},
   "source": [
    "【範例5-1】根據字母排序清單的資料"
   ]
  },
  {
   "cell_type": "code",
   "execution_count": 54,
   "metadata": {},
   "outputs": [
    {
     "name": "stdout",
     "output_type": "stream",
     "text": [
      "['ComSci', 'History', 'Math', 'Physics']\n"
     ]
    }
   ],
   "source": [
    "course = ['History','Math','Physics','ComSci']\n",
    "course.sort()\n",
    "print(course)"
   ]
  },
  {
   "cell_type": "markdown",
   "metadata": {},
   "source": [
    "範例5-2】根據數值大小排序清單的資料"
   ]
  },
  {
   "cell_type": "code",
   "execution_count": 56,
   "metadata": {},
   "outputs": [
    {
     "name": "stdout",
     "output_type": "stream",
     "text": [
      "[1, 2, 3, 4, 5]\n"
     ]
    }
   ],
   "source": [
    "nums = [1, 5, 2, 4, 3]\n",
    "nums.sort()\n",
    "print(nums)"
   ]
  },
  {
   "cell_type": "markdown",
   "metadata": {},
   "source": [
    "【範例5-3】字母排序以Z→A，或者數值排序以遞減的方式排序"
   ]
  },
  {
   "cell_type": "code",
   "execution_count": 58,
   "metadata": {},
   "outputs": [
    {
     "name": "stdout",
     "output_type": "stream",
     "text": [
      "['Physics', 'Math', 'History', 'ComSci']\n",
      "[5, 4, 3, 2, 1]\n"
     ]
    }
   ],
   "source": [
    "course = ['History','Math','Physics','ComSci']\n",
    "nums = [1, 5, 2, 4, 3]\n",
    "course.sort(reverse = True)\n",
    "nums.sort(reverse = True)\n",
    "print(course)\n",
    "print(nums)"
   ]
  },
  {
   "cell_type": "markdown",
   "metadata": {},
   "source": [
    "【範例5-4】示範如何利用sorted()函式取得排序後的清單副本，而不會取代原本的清單。若想儲存排序後並回傳的清單副本，必須指派一個變數給它。"
   ]
  },
  {
   "cell_type": "code",
   "execution_count": 60,
   "metadata": {},
   "outputs": [
    {
     "name": "stdout",
     "output_type": "stream",
     "text": [
      "['History', 'Math', 'Physics', 'ComSci']\n",
      "['ComSci', 'History', 'Math', 'Physics']\n"
     ]
    }
   ],
   "source": [
    "course = ['History','Math','Physics','ComSci']\n",
    "sorted_course = sorted(course)\n",
    "print(course)\n",
    "print(sorted_course)"
   ]
  },
  {
   "cell_type": "markdown",
   "metadata": {},
   "source": [
    "【範例6-1】利用min()函式回傳最小值。"
   ]
  },
  {
   "cell_type": "code",
   "execution_count": 61,
   "metadata": {},
   "outputs": [
    {
     "name": "stdout",
     "output_type": "stream",
     "text": [
      "1\n"
     ]
    }
   ],
   "source": [
    "nums = [1, 5, 2, 4, 3]\n",
    "print(min(nums))"
   ]
  },
  {
   "cell_type": "markdown",
   "metadata": {},
   "source": [
    "【範例6-2】利用max()函式回傳最大值。"
   ]
  },
  {
   "cell_type": "code",
   "execution_count": 63,
   "metadata": {},
   "outputs": [
    {
     "name": "stdout",
     "output_type": "stream",
     "text": [
      "5\n"
     ]
    }
   ],
   "source": [
    "nums = [1, 5, 2, 4, 3]\n",
    "print(max(nums))"
   ]
  },
  {
   "cell_type": "markdown",
   "metadata": {},
   "source": [
    "【範例6-3】利用sum()函式回傳總和。"
   ]
  },
  {
   "cell_type": "code",
   "execution_count": 64,
   "metadata": {},
   "outputs": [
    {
     "name": "stdout",
     "output_type": "stream",
     "text": [
      "15\n"
     ]
    }
   ],
   "source": [
    "nums = [1, 5, 2, 4, 3]\n",
    "print(sum(nums))"
   ]
  },
  {
   "cell_type": "markdown",
   "metadata": {},
   "source": [
    "【範例7-1】利用index()方法取得清單特定資料項(x)的位置索引。"
   ]
  },
  {
   "cell_type": "code",
   "execution_count": 66,
   "metadata": {},
   "outputs": [
    {
     "name": "stdout",
     "output_type": "stream",
     "text": [
      "3\n"
     ]
    }
   ],
   "source": [
    "course = ['History','Math','Physics','ComSci']\n",
    "print(course.index('ComSci'))"
   ]
  },
  {
   "cell_type": "markdown",
   "metadata": {},
   "source": [
    "【範例7-2】若資料項(x)不在清單內，則index(x)會引法IndexError。本例為取得'Art'的位置索引。"
   ]
  },
  {
   "cell_type": "code",
   "execution_count": 68,
   "metadata": {},
   "outputs": [
    {
     "ename": "ValueError",
     "evalue": "'Art' is not in list",
     "output_type": "error",
     "traceback": [
      "\u001b[0;31m---------------------------------------------------------------------------\u001b[0m",
      "\u001b[0;31mValueError\u001b[0m                                Traceback (most recent call last)",
      "\u001b[0;32m<ipython-input-68-0a90de96790b>\u001b[0m in \u001b[0;36m<module>\u001b[0;34m\u001b[0m\n\u001b[1;32m      1\u001b[0m \u001b[0mcourse\u001b[0m \u001b[0;34m=\u001b[0m \u001b[0;34m[\u001b[0m\u001b[0;34m'History'\u001b[0m\u001b[0;34m,\u001b[0m\u001b[0;34m'Math'\u001b[0m\u001b[0;34m,\u001b[0m\u001b[0;34m'Physics'\u001b[0m\u001b[0;34m,\u001b[0m\u001b[0;34m'ComSci'\u001b[0m\u001b[0;34m]\u001b[0m\u001b[0;34m\u001b[0m\u001b[0;34m\u001b[0m\u001b[0m\n\u001b[0;32m----> 2\u001b[0;31m \u001b[0mprint\u001b[0m\u001b[0;34m(\u001b[0m\u001b[0mcourse\u001b[0m\u001b[0;34m.\u001b[0m\u001b[0mindex\u001b[0m\u001b[0;34m(\u001b[0m\u001b[0;34m'Art'\u001b[0m\u001b[0;34m)\u001b[0m\u001b[0;34m)\u001b[0m\u001b[0;34m\u001b[0m\u001b[0;34m\u001b[0m\u001b[0m\n\u001b[0m",
      "\u001b[0;31mValueError\u001b[0m: 'Art' is not in list"
     ]
    }
   ],
   "source": [
    "course = ['History','Math','Physics','ComSci']\n",
    "print(course.index('Art'))"
   ]
  },
  {
   "cell_type": "markdown",
   "metadata": {},
   "source": [
    "【範例7-3】利用in運算符來檢查資料項(x)是否存在於清單中。若存在則回傳True，若不存在則回傳False。"
   ]
  },
  {
   "cell_type": "code",
   "execution_count": 72,
   "metadata": {},
   "outputs": [
    {
     "name": "stdout",
     "output_type": "stream",
     "text": [
      "False\n",
      "True\n"
     ]
    }
   ],
   "source": [
    "course = ['History','Math','Physics','ComSci']\n",
    "print('Art' in course)\n",
    "print('Math' in course)"
   ]
  },
  {
   "cell_type": "markdown",
   "metadata": {},
   "source": [
    "【範例8】利用迴圈把清單裡的每個資料項印出來。"
   ]
  },
  {
   "cell_type": "code",
   "execution_count": 73,
   "metadata": {},
   "outputs": [
    {
     "name": "stdout",
     "output_type": "stream",
     "text": [
      "History\n",
      "Math\n",
      "Physics\n",
      "ComSci\n"
     ]
    }
   ],
   "source": [
    "course = ['History','Math','Physics','ComSci']\n",
    "for item in course:\n",
    "    print(item)"
   ]
  },
  {
   "cell_type": "markdown",
   "metadata": {},
   "source": [
    "【範例9-1】利用for迴圈以及enumerate()函式把清單的每個索引位置以及對應的資料項印出來。enumerate()函式會回傳兩個值，第1個是位置索引，第2個是該位置索引所對應的資料項。"
   ]
  },
  {
   "cell_type": "code",
   "execution_count": 74,
   "metadata": {},
   "outputs": [
    {
     "name": "stdout",
     "output_type": "stream",
     "text": [
      "0 History\n",
      "1 Math\n",
      "2 Physics\n",
      "3 ComSci\n"
     ]
    }
   ],
   "source": [
    "course = ['History','Math','Physics','ComSci']\n",
    "for index, item in enumerate(course):\n",
    "    print(index, item)"
   ]
  },
  {
   "cell_type": "markdown",
   "metadata": {},
   "source": [
    "【範例9-2】Python的位置索引預設值是從0開始，如果想要從1開始，可以在enumerate()函式中，多指定1個引數：start = 1。"
   ]
  },
  {
   "cell_type": "code",
   "execution_count": 75,
   "metadata": {},
   "outputs": [
    {
     "name": "stdout",
     "output_type": "stream",
     "text": [
      "1 History\n",
      "2 Math\n",
      "3 Physics\n",
      "4 ComSci\n"
     ]
    }
   ],
   "source": [
    "course = ['History','Math','Physics','ComSci']\n",
    "for index, item in enumerate(course, start = 1 ):\n",
    "    print(index, item)"
   ]
  },
  {
   "cell_type": "markdown",
   "metadata": {},
   "source": [
    "【範例10-1】示範把清單內的所有資料項轉成一個字串，並以特定的分隔符號隔開。將['History','Math','Physics','ComSci']清單轉成一個字串，各資料項以\"- \"連接。"
   ]
  },
  {
   "cell_type": "code",
   "execution_count": 77,
   "metadata": {},
   "outputs": [
    {
     "name": "stdout",
     "output_type": "stream",
     "text": [
      "History - Math - Physics - ComSci\n"
     ]
    }
   ],
   "source": [
    "course = ['History','Math','Physics','ComSci']\n",
    "course_str = \" - \".join(course)\n",
    "print(course_str)"
   ]
  },
  {
   "cell_type": "markdown",
   "metadata": {},
   "source": [
    "【範例10-2】將History - Math - Physics - ComSci字串分拆後再存成清單。"
   ]
  },
  {
   "cell_type": "code",
   "execution_count": 82,
   "metadata": {},
   "outputs": [
    {
     "name": "stdout",
     "output_type": "stream",
     "text": [
      "['History', 'Math', 'Physics', 'ComSci']\n"
     ]
    }
   ],
   "source": [
    "course_str = \"History - Math - Physics - ComSci\"\n",
    "new_list = course_str.split(\" - \")\n",
    "print(new_list)"
   ]
  },
  {
   "cell_type": "code",
   "execution_count": 84,
   "metadata": {},
   "outputs": [
    {
     "name": "stdout",
     "output_type": "stream",
     "text": [
      "['', 'History', 'Math', 'Physics', 'ComSci']\n"
     ]
    }
   ],
   "source": [
    "course_str = \" - History - Math - Physics - ComSci\"\n",
    "new_list = course_str.split(\" - \")\n",
    "print(new_list)"
   ]
  },
  {
   "cell_type": "markdown",
   "metadata": {},
   "source": [
    "【範例11-1】示範清單(list)可修改的特性。"
   ]
  },
  {
   "cell_type": "code",
   "execution_count": 85,
   "metadata": {},
   "outputs": [
    {
     "name": "stdout",
     "output_type": "stream",
     "text": [
      "['Art', 'Math', 'Physics', 'ComSci']\n",
      "['Art', 'Math', 'Physics', 'ComSci']\n"
     ]
    }
   ],
   "source": [
    "list_1 = ['History','Math','Physics','ComSci']\n",
    "list_2 = list_1\n",
    "list_1[0] = 'Art'\n",
    "print(list_1)\n",
    "print(list_2)"
   ]
  },
  {
   "cell_type": "markdown",
   "metadata": {},
   "source": [
    "【範例11-2】示範元組(tuple)不可修改的特性。(immutable)"
   ]
  },
  {
   "cell_type": "code",
   "execution_count": 88,
   "metadata": {},
   "outputs": [
    {
     "ename": "TypeError",
     "evalue": "'tuple' object does not support item assignment",
     "output_type": "error",
     "traceback": [
      "\u001b[0;31m---------------------------------------------------------------------------\u001b[0m",
      "\u001b[0;31mTypeError\u001b[0m                                 Traceback (most recent call last)",
      "\u001b[0;32m<ipython-input-88-37cb7911fb2e>\u001b[0m in \u001b[0;36m<module>\u001b[0;34m\u001b[0m\n\u001b[1;32m      1\u001b[0m \u001b[0mtuple_1\u001b[0m \u001b[0;34m=\u001b[0m \u001b[0;34m(\u001b[0m\u001b[0;34m'History'\u001b[0m\u001b[0;34m,\u001b[0m\u001b[0;34m'Math'\u001b[0m\u001b[0;34m,\u001b[0m\u001b[0;34m'Physics'\u001b[0m\u001b[0;34m,\u001b[0m\u001b[0;34m'ComSci'\u001b[0m\u001b[0;34m)\u001b[0m\u001b[0;34m\u001b[0m\u001b[0;34m\u001b[0m\u001b[0m\n\u001b[1;32m      2\u001b[0m \u001b[0mtuple_2\u001b[0m \u001b[0;34m=\u001b[0m \u001b[0mtuple_1\u001b[0m\u001b[0;34m\u001b[0m\u001b[0;34m\u001b[0m\u001b[0m\n\u001b[0;32m----> 3\u001b[0;31m \u001b[0mtuple_1\u001b[0m\u001b[0;34m[\u001b[0m\u001b[0;36m0\u001b[0m\u001b[0;34m]\u001b[0m \u001b[0;34m=\u001b[0m \u001b[0;34m'Art'\u001b[0m\u001b[0;34m\u001b[0m\u001b[0;34m\u001b[0m\u001b[0m\n\u001b[0m\u001b[1;32m      4\u001b[0m \u001b[0mprint\u001b[0m\u001b[0;34m(\u001b[0m\u001b[0mtuple_1\u001b[0m\u001b[0;34m)\u001b[0m\u001b[0;34m\u001b[0m\u001b[0;34m\u001b[0m\u001b[0m\n\u001b[1;32m      5\u001b[0m \u001b[0mprint\u001b[0m\u001b[0;34m(\u001b[0m\u001b[0mtuple_2\u001b[0m\u001b[0;34m)\u001b[0m\u001b[0;34m\u001b[0m\u001b[0;34m\u001b[0m\u001b[0m\n",
      "\u001b[0;31mTypeError\u001b[0m: 'tuple' object does not support item assignment"
     ]
    }
   ],
   "source": [
    "tuple_1 = ('History','Math','Physics','ComSci')\n",
    "tuple_2 = tuple_1\n",
    "tuple_1[0] = 'Art'\n",
    "print(tuple_1)\n",
    "print(tuple_2)"
   ]
  },
  {
   "cell_type": "markdown",
   "metadata": {},
   "source": [
    "【範例12-1】示範如何建立一個集合，以及觀察集合無序的特性。"
   ]
  },
  {
   "cell_type": "code",
   "execution_count": 89,
   "metadata": {},
   "outputs": [
    {
     "name": "stdout",
     "output_type": "stream",
     "text": [
      "{'History', 'Physics', 'Math', 'ComSci'}\n"
     ]
    }
   ],
   "source": [
    "cs_course = {'History','Math','Physics','ComSci'}\n",
    "print(cs_course)"
   ]
  },
  {
   "cell_type": "markdown",
   "metadata": {},
   "source": [
    "【範例12-2】示範集合裡資料項的唯一特性。本範例在集合最後一項再新增一個'Math'。"
   ]
  },
  {
   "cell_type": "code",
   "execution_count": 91,
   "metadata": {},
   "outputs": [
    {
     "name": "stdout",
     "output_type": "stream",
     "text": [
      "{'History', 'Physics', 'Math', 'ComSci'}\n"
     ]
    }
   ],
   "source": [
    "cs_course = {'History','Math','Physics','ComSci','Math'}\n",
    "print(cs_course)"
   ]
  },
  {
   "cell_type": "markdown",
   "metadata": {},
   "source": [
    "【範例12-3】如何檢查兩個集合之間的交集資料。"
   ]
  },
  {
   "cell_type": "code",
   "execution_count": 90,
   "metadata": {},
   "outputs": [
    {
     "name": "stdout",
     "output_type": "stream",
     "text": [
      "{'History', 'Math'}\n"
     ]
    }
   ],
   "source": [
    "cs_course = {'History','Math','Physics','ComSci'}\n",
    "art_course = {'History','Math','Art','Design'}\n",
    "print(cs_course.intersection(art_course))"
   ]
  },
  {
   "cell_type": "markdown",
   "metadata": {},
   "source": [
    "【範例12-4】如何檢查兩個集合之間的差集資料(difference)。"
   ]
  },
  {
   "cell_type": "code",
   "execution_count": 92,
   "metadata": {},
   "outputs": [
    {
     "name": "stdout",
     "output_type": "stream",
     "text": [
      "{'Physics', 'ComSci'}\n"
     ]
    }
   ],
   "source": [
    "cs_course = {'History','Math','Physics','ComSci'}\n",
    "art_course = {'History','Math','Art','Design'}\n",
    "print(cs_course.difference(art_course))"
   ]
  },
  {
   "cell_type": "markdown",
   "metadata": {},
   "source": [
    "【範例12-5】如何檢查兩個集合之間的聯集資料(union)。"
   ]
  },
  {
   "cell_type": "code",
   "execution_count": 93,
   "metadata": {},
   "outputs": [
    {
     "name": "stdout",
     "output_type": "stream",
     "text": [
      "{'Physics', 'Art', 'Math', 'ComSci', 'History', 'Design'}\n"
     ]
    }
   ],
   "source": [
    "cs_course = {'History','Math','Physics','ComSci'}\n",
    "art_course = {'History','Math','Art','Design'}\n",
    "print(cs_course.union(art_course))"
   ]
  },
  {
   "cell_type": "markdown",
   "metadata": {},
   "source": [
    "【範例13-1】建立空清單、空元組與空集合的方法。"
   ]
  },
  {
   "cell_type": "markdown",
   "metadata": {},
   "source": [
    "【範例13-1】建立空清單、空元組與空集合的方法。"
   ]
  },
  {
   "cell_type": "code",
   "execution_count": 94,
   "metadata": {},
   "outputs": [],
   "source": [
    "#建立空清單\n",
    "empty_list = []\n",
    "empty_list = list()\n",
    "\n",
    "#建立空元組\n",
    "empty_tuple = ()\n",
    "empty_tuple = tuple()\n",
    "\n",
    "#建立空集合\n",
    "empty_set = {} #本語法不是建立空集合，而是建立空字典(dict)，這裡要特別小心。\n",
    "empty_set = set()"
   ]
  },
  {
   "cell_type": "code",
   "execution_count": null,
   "metadata": {},
   "outputs": [],
   "source": []
  }
 ],
 "metadata": {
  "kernelspec": {
   "display_name": "Python 3",
   "language": "python",
   "name": "python3"
  },
  "language_info": {
   "codemirror_mode": {
    "name": "ipython",
    "version": 3
   },
   "file_extension": ".py",
   "mimetype": "text/x-python",
   "name": "python",
   "nbconvert_exporter": "python",
   "pygments_lexer": "ipython3",
   "version": "3.7.4"
  }
 },
 "nbformat": 4,
 "nbformat_minor": 2
}
