{
 "cells": [
  {
   "cell_type": "markdown",
   "metadata": {},
   "source": [
    "亞摩的部落格：https://oceanhover.blogspot.com/2019/12/python35-dictionarieskeyvalue.html\n",
    "\n",
    "字典(dictionaries)允許我們操作成對的鍵(key)與值(value)，鍵值對(key value pairs)是組成字典的元素，Hash maps或關聯式陣列(associative array)也是由成對的鍵與值所組成。鍵與值的關係可以用實體字典作比喻，每一個鍵都是唯一的，就像字典裡的每個定義，而定義的內容就像是儲存的資料。(個人偏好用房子來作比喻：鍵就像是房子的位址，而值就像是住在房子裡的人、物)"
   ]
  },
  {
   "cell_type": "markdown",
   "metadata": {},
   "source": [
    "【範例1-1】以建立1個student字典為例。 "
   ]
  },
  {
   "cell_type": "code",
   "execution_count": 2,
   "metadata": {},
   "outputs": [
    {
     "name": "stdout",
     "output_type": "stream",
     "text": [
      "{'name': 'John', 'age': 25, 'courses': ['Math', 'ComSci']}\n"
     ]
    }
   ],
   "source": [
    "student = {'name':'John', 'age':25, 'courses':['Math', 'ComSci']}\n",
    "print(student)"
   ]
  },
  {
   "cell_type": "markdown",
   "metadata": {},
   "source": [
    "【範例1-2】取出\bstudent字典裡某一個鍵的值，本例以取出'name'為例。"
   ]
  },
  {
   "cell_type": "code",
   "execution_count": 3,
   "metadata": {},
   "outputs": [
    {
     "name": "stdout",
     "output_type": "stream",
     "text": [
      "John\n"
     ]
    }
   ],
   "source": [
    "student = {'name':'John', 'age':25, 'courses':['Math', 'ComSci']}\n",
    "print(student['name'])"
   ]
  },
  {
   "cell_type": "markdown",
   "metadata": {},
   "source": [
    "注意字典裡鍵與值可以為任意的資料型態如：字串、整數、元組、清單、字典、集合…等。\n",
    "\n",
    "【範例2-1】原本儲存在student裡的一個鍵'name'為字串，將其改為整數型態的1。"
   ]
  },
  {
   "cell_type": "code",
   "execution_count": 5,
   "metadata": {},
   "outputs": [
    {
     "name": "stdout",
     "output_type": "stream",
     "text": [
      "John\n"
     ]
    }
   ],
   "source": [
    "student = {1:'John', 'age':25, 'courses':['Math', 'ComSci']}\n",
    "print(student[1])"
   ]
  },
  {
   "cell_type": "markdown",
   "metadata": {},
   "source": [
    "【範例2-2】若想取出的鍵不存在於字典中，將會引發KeyError。"
   ]
  },
  {
   "cell_type": "code",
   "execution_count": 6,
   "metadata": {},
   "outputs": [
    {
     "ename": "KeyError",
     "evalue": "'phone'",
     "output_type": "error",
     "traceback": [
      "\u001b[0;31m---------------------------------------------------------------------------\u001b[0m",
      "\u001b[0;31mKeyError\u001b[0m                                  Traceback (most recent call last)",
      "\u001b[0;32m<ipython-input-6-6f90e717eeff>\u001b[0m in \u001b[0;36m<module>\u001b[0;34m\u001b[0m\n\u001b[1;32m      1\u001b[0m \u001b[0mstudent\u001b[0m \u001b[0;34m=\u001b[0m \u001b[0;34m{\u001b[0m\u001b[0;34m'name'\u001b[0m\u001b[0;34m:\u001b[0m\u001b[0;34m'John'\u001b[0m\u001b[0;34m,\u001b[0m \u001b[0;34m'age'\u001b[0m\u001b[0;34m:\u001b[0m\u001b[0;36m25\u001b[0m\u001b[0;34m,\u001b[0m \u001b[0;34m'courses'\u001b[0m\u001b[0;34m:\u001b[0m\u001b[0;34m[\u001b[0m\u001b[0;34m'Math'\u001b[0m\u001b[0;34m,\u001b[0m \u001b[0;34m'ComSci'\u001b[0m\u001b[0;34m]\u001b[0m\u001b[0;34m}\u001b[0m\u001b[0;34m\u001b[0m\u001b[0;34m\u001b[0m\u001b[0m\n\u001b[0;32m----> 2\u001b[0;31m \u001b[0mprint\u001b[0m\u001b[0;34m(\u001b[0m\u001b[0mstudent\u001b[0m\u001b[0;34m[\u001b[0m\u001b[0;34m'phone'\u001b[0m\u001b[0;34m]\u001b[0m\u001b[0;34m)\u001b[0m\u001b[0;34m\u001b[0m\u001b[0;34m\u001b[0m\u001b[0m\n\u001b[0m",
      "\u001b[0;31mKeyError\u001b[0m: 'phone'"
     ]
    }
   ],
   "source": [
    "student = {'name':'John', 'age':25, 'courses':['Math', 'ComSci']}\n",
    "print(student['phone'])"
   ]
  },
  {
   "cell_type": "markdown",
   "metadata": {},
   "source": [
    "【範例2-3】第二種情況，當取出的鍵不存在於字典中，回傳none而不是KeyError。"
   ]
  },
  {
   "cell_type": "code",
   "execution_count": 7,
   "metadata": {},
   "outputs": [
    {
     "name": "stdout",
     "output_type": "stream",
     "text": [
      "None\n"
     ]
    }
   ],
   "source": [
    "student = {'name':'John', 'age':25, 'courses':['Math', 'ComSci']}\n",
    "print(student.get('phone'))"
   ]
  },
  {
   "cell_type": "markdown",
   "metadata": {},
   "source": [
    "【範例2-4】第三種情況，當你希望取出的鍵不存在於字典中時，既非引發KeyError也非None而是回傳一個指定的預設值。"
   ]
  },
  {
   "cell_type": "code",
   "execution_count": 8,
   "metadata": {},
   "outputs": [
    {
     "name": "stdout",
     "output_type": "stream",
     "text": [
      "Not found\n"
     ]
    }
   ],
   "source": [
    "student = {'name':'John', 'age':25, 'courses':['Math', 'ComSci']}\n",
    "print(student.get('phone', 'Not found'))"
   ]
  },
  {
   "cell_type": "markdown",
   "metadata": {},
   "source": [
    "【範例3-1】於既有的字典裡新增鍵值對。本例是在student字典裡新增{phone:555-5555}。"
   ]
  },
  {
   "cell_type": "code",
   "execution_count": 9,
   "metadata": {},
   "outputs": [
    {
     "name": "stdout",
     "output_type": "stream",
     "text": [
      "555-5555\n"
     ]
    }
   ],
   "source": [
    "student = {'name':'John', 'age':25, 'courses':['Math', 'ComSci']}\n",
    "student['phone'] = '555-5555'\n",
    "print(student.get('phone', 'Not found'))"
   ]
  },
  {
   "cell_type": "markdown",
   "metadata": {},
   "source": [
    "【範例3-2】更新字典裡的鍵值對。本例是將student字典裡的{'name': 'John'}更新為{'name': 'Jane'}。"
   ]
  },
  {
   "cell_type": "code",
   "execution_count": 13,
   "metadata": {},
   "outputs": [
    {
     "name": "stdout",
     "output_type": "stream",
     "text": [
      "Jane\n"
     ]
    }
   ],
   "source": [
    "student = {'name':'John', 'age':25, 'courses':['Math', 'ComSci']}\n",
    "student['name'] = 'Jane'\n",
    "print(student.get('name'))"
   ]
  },
  {
   "cell_type": "markdown",
   "metadata": {},
   "source": [
    "在【範例3-1】與【範例3-2】示範了如何新增以及更新字典裡的鍵值對，但利用dict[key] = value的語法，其限制是只能修改一組鍵值對。\n",
    "\n",
    "【範例3-3】如果使用者想一次修改多組鍵值對，可以利用update方法。本例是用一行程式碼完成【範例3-1】以及【範例3-2】的工作。"
   ]
  },
  {
   "cell_type": "code",
   "execution_count": 15,
   "metadata": {},
   "outputs": [
    {
     "name": "stdout",
     "output_type": "stream",
     "text": [
      "{'name': 'Jane', 'age': 26, 'courses': ['Math', 'ComSci'], 'phone': '555-5555'}\n"
     ]
    }
   ],
   "source": [
    "student = {'name':'John', 'age':25, 'courses':['Math', 'ComSci']}\n",
    "student.update({'name': 'Jane', 'age': 26,'phone': '555-5555'})\n",
    "print(student)"
   ]
  },
  {
   "cell_type": "markdown",
   "metadata": {},
   "source": [
    "範例3-4-1】移除字典裡的鍵值對。本例是利用del陳述來移除{'age':25}。"
   ]
  },
  {
   "cell_type": "code",
   "execution_count": 1,
   "metadata": {},
   "outputs": [
    {
     "name": "stdout",
     "output_type": "stream",
     "text": [
      "{'name': 'John', 'courses': ['Math', 'ComSci']}\n"
     ]
    }
   ],
   "source": [
    "student = {'name':'John', 'age':25, 'courses':['Math', 'ComSci']}\n",
    "del student['age']\n",
    "print(student)"
   ]
  },
  {
   "cell_type": "markdown",
   "metadata": {},
   "source": [
    "【範例3-4-2】移除字典裡的鍵值對。本例是利用pop()方法來移除{'age':25}並將回傳的值25指派給變數age。"
   ]
  },
  {
   "cell_type": "code",
   "execution_count": 2,
   "metadata": {
    "scrolled": true
   },
   "outputs": [
    {
     "name": "stdout",
     "output_type": "stream",
     "text": [
      "{'name': 'John', 'courses': ['Math', 'ComSci']}\n",
      "25\n"
     ]
    }
   ],
   "source": [
    "student = {'name':'John', 'age':25, 'courses':['Math', 'ComSci']}\n",
    "age = student.pop('age')\n",
    "print(student)\n",
    "print(age)\n"
   ]
  },
  {
   "cell_type": "markdown",
   "metadata": {},
   "source": [
    "【範例3-4-3】檢查字典長度(鍵的數量)"
   ]
  },
  {
   "cell_type": "code",
   "execution_count": 12,
   "metadata": {},
   "outputs": [
    {
     "name": "stdout",
     "output_type": "stream",
     "text": [
      "3\n"
     ]
    }
   ],
   "source": [
    "student = {'name':'John', 'age':25, 'courses':['Math', 'ComSci']}\n",
    "print(len(student))"
   ]
  },
  {
   "cell_type": "markdown",
   "metadata": {},
   "source": [
    "【範例3-4-4】取出字典裡的鍵"
   ]
  },
  {
   "cell_type": "code",
   "execution_count": 11,
   "metadata": {},
   "outputs": [
    {
     "name": "stdout",
     "output_type": "stream",
     "text": [
      "dict_keys(['name', 'age', 'courses'])\n"
     ]
    }
   ],
   "source": [
    "student = {'name':'John', 'age':25, 'courses':['Math', 'ComSci']}\n",
    "print(student.keys())"
   ]
  },
  {
   "cell_type": "markdown",
   "metadata": {},
   "source": [
    "範例3-4-5】取出字典裡的值"
   ]
  },
  {
   "cell_type": "code",
   "execution_count": 15,
   "metadata": {},
   "outputs": [
    {
     "name": "stdout",
     "output_type": "stream",
     "text": [
      "dict_values(['John', 25, ['Math', 'ComSci']])\n"
     ]
    }
   ],
   "source": [
    "student = {'name':'John', 'age':25, 'courses':['Math', 'ComSci']}\n",
    "print(student.values())"
   ]
  },
  {
   "cell_type": "markdown",
   "metadata": {},
   "source": [
    "【範例3-4-6】取出字典裡的鍵值對"
   ]
  },
  {
   "cell_type": "code",
   "execution_count": 16,
   "metadata": {},
   "outputs": [
    {
     "name": "stdout",
     "output_type": "stream",
     "text": [
      "dict_items([('name', 'John'), ('age', 25), ('courses', ['Math', 'ComSci'])])\n"
     ]
    }
   ],
   "source": [
    "student = {'name':'John', 'age':25, 'courses':['Math', 'ComSci']}\n",
    "print(student.items())"
   ]
  },
  {
   "cell_type": "markdown",
   "metadata": {},
   "source": [
    "【範例3-4-7】利用for loop迴圈語法去取出字典的資訊。本例逐一取出字典的鍵。\n",
    "for key in student:  的這段陳述有個小細節，若不指定student.keys()或students.values()，而是僅以stduent代表，預設會印出鍵值。也就是說for key in student:  與 for key in student.keys():  都是逐一取出鍵值。"
   ]
  },
  {
   "cell_type": "code",
   "execution_count": 17,
   "metadata": {},
   "outputs": [
    {
     "name": "stdout",
     "output_type": "stream",
     "text": [
      "name\n",
      "age\n",
      "courses\n"
     ]
    }
   ],
   "source": [
    "student = {'name':'John', 'age':25, 'courses':['Math', 'ComSci']}\n",
    "for key in student:\n",
    "    print(key)"
   ]
  },
  {
   "cell_type": "code",
   "execution_count": 18,
   "metadata": {},
   "outputs": [
    {
     "name": "stdout",
     "output_type": "stream",
     "text": [
      "name\n",
      "age\n",
      "courses\n"
     ]
    }
   ],
   "source": [
    "student = {'name':'John', 'age':25, 'courses':['Math', 'ComSci']}\n",
    "for key in student.keys():\n",
    "    print(key)"
   ]
  },
  {
   "cell_type": "markdown",
   "metadata": {},
   "source": [
    "【範例3-4-8】利用for loop迴圈語法去取出字典的資訊。本例逐一取出字典的值。"
   ]
  },
  {
   "cell_type": "code",
   "execution_count": 20,
   "metadata": {},
   "outputs": [
    {
     "name": "stdout",
     "output_type": "stream",
     "text": [
      "John\n",
      "25\n",
      "['Math', 'ComSci']\n"
     ]
    }
   ],
   "source": [
    "student = {'name':'John', 'age':25, 'courses':['Math', 'ComSci']}\n",
    "for value in student.values():\n",
    "    print(value)"
   ]
  },
  {
   "cell_type": "markdown",
   "metadata": {},
   "source": [
    "【範例3-4-9】利用for loop迴圈語法去取出字典的資訊。本例逐一取出字典的鍵值對。"
   ]
  },
  {
   "cell_type": "code",
   "execution_count": 22,
   "metadata": {
    "scrolled": true
   },
   "outputs": [
    {
     "name": "stdout",
     "output_type": "stream",
     "text": [
      "name John\n",
      "age 25\n",
      "courses ['Math', 'ComSci']\n"
     ]
    }
   ],
   "source": [
    "student = {'name':'John', 'age':25, 'courses':['Math', 'ComSci']}\n",
    "for key,value in student.items():\n",
    "    print(key, value)"
   ]
  }
 ],
 "metadata": {
  "kernelspec": {
   "display_name": "Python 3",
   "language": "python",
   "name": "python3"
  },
  "language_info": {
   "codemirror_mode": {
    "name": "ipython",
    "version": 3
   },
   "file_extension": ".py",
   "mimetype": "text/x-python",
   "name": "python",
   "nbconvert_exporter": "python",
   "pygments_lexer": "ipython3",
   "version": "3.7.4"
  }
 },
 "nbformat": 4,
 "nbformat_minor": 2
}
